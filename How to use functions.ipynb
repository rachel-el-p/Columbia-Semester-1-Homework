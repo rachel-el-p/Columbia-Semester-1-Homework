{
 "cells": [
  {
   "cell_type": "code",
   "execution_count": 381,
   "metadata": {},
   "outputs": [],
   "source": [
    "#Run this cell toImport regular expressions\n",
    "#And to initialize the all texts list that will contain all of your dictionaries of text\n",
    "import re\n",
    "all_texts = []"
   ]
  },
  {
   "cell_type": "markdown",
   "metadata": {},
   "source": [
    "** understanding the text_to_dict function**\n",
    "\n",
    "You don't have to completely understand this function to use it, but you do need to understand its parameters. It takes three parameters:\n",
    "* `title` is a string you need to write inside function's parameters\n",
    "* `text` is the variable that holds the entire text\n",
    "* `poem` True/False parameter --if it is true it will split your text by line (`\\n`) \n",
    " \tIf it is false it will split your text by sentence ('[.?!])\n",
    "\n",
    "If you look at the function you will see that it builds a dictionary with the following fields:\n",
    "* `title` is the title of the text\n",
    "* `text_as_string` is the full text as a string\n",
    "* `lines` is a list of lines or sentences\n",
    "\n",
    "It returns a dictionary with those fields."
   ]
  },
  {
   "cell_type": "code",
   "execution_count": 382,
   "metadata": {},
   "outputs": [],
   "source": [
    "def text_to_dict(title,text,poem):\n",
    "    dict_of_this_text = {}\n",
    "    dict_of_this_text['title'] = title\n",
    "    dict_of_this_text['text_as_string'] = text\n",
    "    if poem:\n",
    "        text_to_list = text.strip().split('\\n')\n",
    "    else:\n",
    "        text_to_list = re.split(r\"[.?!]\",text)\n",
    "    dict_of_this_text['lines'] = text_to_list\n",
    "    return dict_of_this_text"
   ]
  },
  {
   "cell_type": "code",
   "execution_count": 383,
   "metadata": {},
   "outputs": [],
   "source": [
    "#please note: the regular expression I am using to split by sentences\n",
    "#is highly flawed, it is borderline impossible to write a regular expression \n",
    "#that splits 100% perfectly by sentence, but feel free to use this."
   ]
  },
  {
   "cell_type": "markdown",
   "metadata": {},
   "source": [
    "## Part One\n",
    "\n",
    "The next five cells are exactly the same. They define five different texts, and then they pass each text through the `text_to_dict` function. And then they add the resulting dictionary to the all_texts list. \n",
    "\n",
    "In the five cells below enter your five selected texts.\n",
    "\n",
    "**You should do no coding at any point** until the very last cell before part two."
   ]
  },
  {
   "cell_type": "code",
   "execution_count": 384,
   "metadata": {},
   "outputs": [],
   "source": [
    "#To change the text, just put a new text between the quotation mark\n",
    "text0 = '''October. Here in this dank, unfamiliar kitchen\n",
    "I study my father's embarrassed young man's face.\n",
    "Sheepish grin, he holds in one hand a string\n",
    "of spiny yellow perch, in the other\n",
    "a bottle of Carlsbad Beer.\n",
    "\n",
    "In jeans and denim shirt, he leans\n",
    "against the front fender of a 1934 Ford.\n",
    "He would like to pose bluff and hearty for his posterity,\n",
    "Wear his old hat cocked over his ear.\n",
    "All his life my father wanted to be bold.\n",
    "\n",
    "But the eyes give him away, and the hands\n",
    "that limply offer the string of dead perch\n",
    "and the bottle of beer. Father, I love you,\n",
    "yet how can I say thank you, I who can't hold my liquor either,\n",
    "and don't even know the places to fish?\n",
    "'''\n",
    "#Remember: you need to type the title into the first parameter\n",
    "#place the variable containing the text into the second paramater\n",
    "#If you want to split by line choose True for the third parameter\n",
    "#If you want to split by sentence, choose False\n",
    "transform_it = text_to_dict(\"Photograph of My Father in His Twenty-Second Year\",text0,True)\n",
    "all_texts.append(transform_it)"
   ]
  },
  {
   "cell_type": "code",
   "execution_count": 385,
   "metadata": {},
   "outputs": [
    {
     "data": {
      "text/plain": [
       "[{'title': 'Photograph of My Father in His Twenty-Second Year',\n",
       "  'text_as_string': \"October. Here in this dank, unfamiliar kitchen\\nI study my father's embarrassed young man's face.\\nSheepish grin, he holds in one hand a string\\nof spiny yellow perch, in the other\\na bottle of Carlsbad Beer.\\n\\nIn jeans and denim shirt, he leans\\nagainst the front fender of a 1934 Ford.\\nHe would like to pose bluff and hearty for his posterity,\\nWear his old hat cocked over his ear.\\nAll his life my father wanted to be bold.\\n\\nBut the eyes give him away, and the hands\\nthat limply offer the string of dead perch\\nand the bottle of beer. Father, I love you,\\nyet how can I say thank you, I who can't hold my liquor either,\\nand don't even know the places to fish?\\n\",\n",
       "  'lines': ['October. Here in this dank, unfamiliar kitchen',\n",
       "   \"I study my father's embarrassed young man's face.\",\n",
       "   'Sheepish grin, he holds in one hand a string',\n",
       "   'of spiny yellow perch, in the other',\n",
       "   'a bottle of Carlsbad Beer.',\n",
       "   '',\n",
       "   'In jeans and denim shirt, he leans',\n",
       "   'against the front fender of a 1934 Ford.',\n",
       "   'He would like to pose bluff and hearty for his posterity,',\n",
       "   'Wear his old hat cocked over his ear.',\n",
       "   'All his life my father wanted to be bold.',\n",
       "   '',\n",
       "   'But the eyes give him away, and the hands',\n",
       "   'that limply offer the string of dead perch',\n",
       "   'and the bottle of beer. Father, I love you,',\n",
       "   \"yet how can I say thank you, I who can't hold my liquor either,\",\n",
       "   \"and don't even know the places to fish?\"]}]"
      ]
     },
     "execution_count": 385,
     "metadata": {},
     "output_type": "execute_result"
    }
   ],
   "source": [
    "all_texts"
   ]
  },
  {
   "cell_type": "code",
   "execution_count": 386,
   "metadata": {},
   "outputs": [],
   "source": [
    "text1 = '''\n",
    "When Philip Schaff, a 19th-century Swiss German theologian, immigrated to the United States, \n",
    "he was impressed by the ability of ideologically disparate religious groups to collaborate politically \n",
    "to solve social ills. For Schaff and many others, a key issue in the burgeoning industrialist economy of \n",
    "the North was the preservation of time for worship, rest and family life to preserve the dignity of the worker. \n",
    "\n",
    "They looked to Sabbath laws, in part, to help achieve this.\n",
    "Schaff stressed that keeping the Sabbath wasn’t merely a religious observance but served a civic function. \n",
    "It was a practical way, through time itself, to treat workers as valuable humans with whole lives to be lived.\n",
    "\n",
    "In an 1863 address to the National Sabbath Convention, \n",
    "Schaff argued that “Sabbath rest” is necessary for both body and soul; that it preserves “health, \n",
    "wealth and the temporal happiness and prosperity of individuals and communities.” He went on to say that \n",
    "“our energy and restless activity as a nation, our teeming wealth and prosperity and our very liberty makes \n",
    "the Sabbath a special necessity for us.” \n",
    "\n",
    "He called Sabbath laws a check and limit to the “degrading worship of the almighty dollar.” \n",
    "“Take away the Sabbath,” Schaff said, “and you destroy the most humane and democratic institution,” \n",
    "which is made particularly for “the man of labor and toil, of poverty and sorrow.”\n",
    "'''\n",
    "transform_it = text_to_dict(\"How to Fight Back Against the Inhumanity of Modern Work\",text1,True)\n",
    "all_texts.append(transform_it)"
   ]
  },
  {
   "cell_type": "code",
   "execution_count": 387,
   "metadata": {},
   "outputs": [],
   "source": [
    "text2 = '''\n",
    "The story, like many stories these days, provoked anxiety, dread, \n",
    "and a kind of awe at the foolishness of fellow human beings. \n",
    "Luckily, the Internet has recently provided us with an unlikely antidote to everything wrong with the news cycle: \n",
    "the actor Keanu Reeves.\n",
    "\n",
    "Take, for instance, a moment, a few weeks ago, when Reeves appeared on “The Late Show” to promote \n",
    "“John Wick: Chapter 3—Parabellum,” the latest installment in his action-movie franchise. \n",
    "Near the end of the interview, Stephen Colbert asked the actor what he thought happens after we die. \n",
    "Reeves was wearing a dark suit and tie, in the vein of a sensitive mafioso who is considering leaving it \n",
    "all behind to enter the priesthood. He paused for a moment, then answered, with some care, \n",
    "“I know that the ones who love us will miss us.” It was a response so wise, so genuinely thoughtful, \n",
    "that it seemed like a rebuke to the usual canned blather of late-night television. \n",
    "\n",
    "The clip was retweeted more than a hundred thousand times, but, when I watched it, \n",
    "I felt like I was standing alone in a rock garden, having a koan whispered into my ear.\n",
    "'''\n",
    "transform_it = text_to_dict(\"Keanu Reeves Is Too Good for This World\",text2,True)\n",
    "all_texts.append(transform_it)"
   ]
  },
  {
   "cell_type": "code",
   "execution_count": 388,
   "metadata": {},
   "outputs": [
    {
     "data": {
      "text/plain": [
       "''"
      ]
     },
     "execution_count": 388,
     "metadata": {},
     "output_type": "execute_result"
    }
   ],
   "source": [
    "#this will display the 5 line in the 3rd text.\n",
    "all_texts[2]['lines'][4]"
   ]
  },
  {
   "cell_type": "code",
   "execution_count": 389,
   "metadata": {},
   "outputs": [],
   "source": [
    "text3 = '''\n",
    "My first pecan tart came from a crush. \n",
    "A guy who lived next door. In the way of queer latchkey teenagers globally, we baked at his place in the afternoons. \n",
    "I crushed pecans. He sifted sugar. Sometimes we brushed hands, folding butter into flour. \n",
    "Once the tarts had been baked, we split them down the middle, until my crush became my friend, \n",
    "and we both grew up, and came out. We moved on to other relationships and other pleasures in other places — \n",
    "but I never entirely forgot about the tarts.\n",
    "\n",
    "A pecan tart is a tiny ode to pleasure. The pastry is unobtrusive but flavorful. \n",
    "Cream cheese adds a waft of sweetness. Its butter pastry dissolves on your tongue, \n",
    "beside a pecan mixture that’s crunchy and decadent and punchy — \n",
    "but not so filling that you can’t chew a single tart over coffee, or gulp a handful just before you’ve set the \n",
    "table for dinner. For a small amount of labor, the feeling you’ll yield is immense. Whether in moderation or excess, \n",
    "the pecan tart is a solid hang.\n",
    "'''\n",
    "transform_it = text_to_dict(\"Pecan Tarts: A Love Story\",text3,True)\n",
    "all_texts.append(transform_it)"
   ]
  },
  {
   "cell_type": "code",
   "execution_count": 390,
   "metadata": {},
   "outputs": [],
   "source": [
    "text4 = '''\n",
    "He looked up his father’s length and watched him bend backwards tossing one off in one jolt in a lordly manner, \n",
    "and a moment later heard him say to the man next him, “That’s my boy”; and felt a warmth of love. \n",
    "Next moment he felt his father’s hands under his armpits, and he was lifted, high, and seated on the bar, \n",
    "looking into a long row of huge bristling and bearded red faces. The eyes of the men nearest him were interested, \n",
    "and kind; some of them smiled; further away, the eyes were impersonal and questioning, but now even some of these \n",
    "began to smile. \n",
    "\n",
    "Somewhat timidly, but feeling assured that his father was proud of him and that he was liked, \n",
    "and liked these men, he smiled back; and suddenly many of the men laughed. He was disconcerted by their laughter \n",
    "and lost his smile a moment; then, realizing it was friendly, smiled again; and again they laughed. \n",
    "His father smiled at him. “That’s my boy,” he said warmly. “Six years old, and he can already read like \n",
    "I couldn’t read when I was twice his age.”\n",
    "'''\n",
    "transform_it = text_to_dict(\"A Death in the Family\",text4,True)\n",
    "all_texts.append(transform_it)"
   ]
  },
  {
   "cell_type": "markdown",
   "metadata": {},
   "source": [
    "Run the two cells below to confirm that first, you only have five texts in the all_texts list, and next, look at the all_texts list to see the dictionary inside it. "
   ]
  },
  {
   "cell_type": "code",
   "execution_count": 391,
   "metadata": {},
   "outputs": [
    {
     "data": {
      "text/plain": [
       "5"
      ]
     },
     "execution_count": 391,
     "metadata": {},
     "output_type": "execute_result"
    }
   ],
   "source": [
    "len(all_texts)"
   ]
  },
  {
   "cell_type": "code",
   "execution_count": 392,
   "metadata": {},
   "outputs": [
    {
     "data": {
      "text/plain": [
       "'My first pecan tart came from a crush. '"
      ]
     },
     "execution_count": 392,
     "metadata": {},
     "output_type": "execute_result"
    }
   ],
   "source": [
    "all_texts[3]['lines'][0]"
   ]
  },
  {
   "cell_type": "markdown",
   "metadata": {},
   "source": [
    "In the cell below, loop through all_texts and print out the title of each text. (This is the only code you need to write for Part One.)"
   ]
  },
  {
   "cell_type": "code",
   "execution_count": 393,
   "metadata": {},
   "outputs": [
    {
     "name": "stdout",
     "output_type": "stream",
     "text": [
      "Photograph of My Father in His Twenty-Second Year\n",
      "How to Fight Back Against the Inhumanity of Modern Work\n",
      "Keanu Reeves Is Too Good for This World\n",
      "Pecan Tarts: A Love Story\n",
      "A Death in the Family\n"
     ]
    }
   ],
   "source": [
    "###Write your code here\n",
    "\n",
    "for title in all_texts:\n",
    "    print(title['title'])\n",
    "    \n",
    "    \n",
    "###ANSWER:\n",
    "#for title in all_texts:\n",
    "    #print(text['title'])"
   ]
  },
  {
   "cell_type": "markdown",
   "metadata": {},
   "source": [
    "## Part Two:  searching within lists and dictionaries\n",
    "In this part, we will be searching through each text and printing out a desired result. The searches, including loops and printing should all be defined in the function. The second cell should just have a function call that executes the function. I have written an example function and call for the first search. For each function that you write you should copy the function from the previous question and modify it so what does what I ask for.\n",
    "\n",
    "For the first six functions, there are no parameters passed to the functions--the calls will just execute the function. Go step-by-step and take your time."
   ]
  },
  {
   "cell_type": "code",
   "execution_count": 394,
   "metadata": {},
   "outputs": [],
   "source": [
    "def get_lengths():\n",
    "    for text in all_texts:\n",
    "        print(text['title'])\n",
    "        print(len(text['text_as_string']))\n",
    "        print(\"------------\")"
   ]
  },
  {
   "cell_type": "code",
   "execution_count": 395,
   "metadata": {},
   "outputs": [
    {
     "name": "stdout",
     "output_type": "stream",
     "text": [
      "Photograph of My Father in His Twenty-Second Year\n",
      "654\n",
      "------------\n",
      "How to Fight Back Against the Inhumanity of Modern Work\n",
      "1389\n",
      "------------\n",
      "Keanu Reeves Is Too Good for This World\n",
      "1118\n",
      "------------\n",
      "Pecan Tarts: A Love Story\n",
      "994\n",
      "------------\n",
      "A Death in the Family\n",
      "1026\n",
      "------------\n"
     ]
    }
   ],
   "source": [
    "get_lengths()"
   ]
  },
  {
   "cell_type": "markdown",
   "metadata": {},
   "source": [
    "Question 1\n",
    "Now write a function that gets the **line count for each poem** (or sentence count for each piece of prose). This function is going to be very similar to the last one. Instead of accessing the whole text via text['text_as_string'] which is a string, you need to access the list of lines/sentences and get the length of that list. Everything else should be the same."
   ]
  },
  {
   "cell_type": "code",
   "execution_count": 423,
   "metadata": {},
   "outputs": [],
   "source": [
    "#Write your function here, name it get_line_count()\n",
    "def get_line_count():\n",
    "    for text in all_texts:\n",
    "        print(text['lines'])\n",
    "        print(len(text['lines']))\n",
    "        print(\"------------\")\n",
    "\n",
    "\n",
    "#get_line_count = all_texts['lines'].splitlines()\n",
    "#for line in all_texts:\n",
    "    #print(len(line))"
   ]
  },
  {
   "cell_type": "code",
   "execution_count": 424,
   "metadata": {},
   "outputs": [
    {
     "name": "stdout",
     "output_type": "stream",
     "text": [
      "['October. Here in this dank, unfamiliar kitchen', \"I study my father's embarrassed young man's face.\", 'Sheepish grin, he holds in one hand a string', 'of spiny yellow perch, in the other', 'a bottle of Carlsbad Beer.', '', 'In jeans and denim shirt, he leans', 'against the front fender of a 1934 Ford.', 'He would like to pose bluff and hearty for his posterity,', 'Wear his old hat cocked over his ear.', 'All his life my father wanted to be bold.', '', 'But the eyes give him away, and the hands', 'that limply offer the string of dead perch', 'and the bottle of beer. Father, I love you,', \"yet how can I say thank you, I who can't hold my liquor either,\", \"and don't even know the places to fish?\"]\n",
      "17\n",
      "------------\n",
      "['When Philip Schaff, a 19th-century Swiss German theologian, immigrated to the United States, ', 'he was impressed by the ability of ideologically disparate religious groups to collaborate politically ', 'to solve social ills. For Schaff and many others, a key issue in the burgeoning industrialist economy of ', 'the North was the preservation of time for worship, rest and family life to preserve the dignity of the worker. ', '', 'They looked to Sabbath laws, in part, to help achieve this.', 'Schaff stressed that keeping the Sabbath wasn’t merely a religious observance but served a civic function. ', 'It was a practical way, through time itself, to treat workers as valuable humans with whole lives to be lived.', '', 'In an 1863 address to the National Sabbath Convention, ', 'Schaff argued that “Sabbath rest” is necessary for both body and soul; that it preserves “health, ', 'wealth and the temporal happiness and prosperity of individuals and communities.” He went on to say that ', '“our energy and restless activity as a nation, our teeming wealth and prosperity and our very liberty makes ', 'the Sabbath a special necessity for us.” ', '', 'He called Sabbath laws a check and limit to the “degrading worship of the almighty dollar.” ', '“Take away the Sabbath,” Schaff said, “and you destroy the most humane and democratic institution,” ', 'which is made particularly for “the man of labor and toil, of poverty and sorrow.”']\n",
      "18\n",
      "------------\n",
      "['The story, like many stories these days, provoked anxiety, dread, ', 'and a kind of awe at the foolishness of fellow human beings. ', 'Luckily, the Internet has recently provided us with an unlikely antidote to everything wrong with the news cycle: ', 'the actor Keanu Reeves.', '', 'Take, for instance, a moment, a few weeks ago, when Reeves appeared on “The Late Show” to promote ', '“John Wick: Chapter 3—Parabellum,” the latest installment in his action-movie franchise. ', 'Near the end of the interview, Stephen Colbert asked the actor what he thought happens after we die. ', 'Reeves was wearing a dark suit and tie, in the vein of a sensitive mafioso who is considering leaving it ', 'all behind to enter the priesthood. He paused for a moment, then answered, with some care, ', '“I know that the ones who love us will miss us.” It was a response so wise, so genuinely thoughtful, ', 'that it seemed like a rebuke to the usual canned blather of late-night television. ', '', 'The clip was retweeted more than a hundred thousand times, but, when I watched it, ', 'I felt like I was standing alone in a rock garden, having a koan whispered into my ear.']\n",
      "15\n",
      "------------\n",
      "['My first pecan tart came from a crush. ', 'A guy who lived next door. In the way of queer latchkey teenagers globally, we baked at his place in the afternoons. ', 'I crushed pecans. He sifted sugar. Sometimes we brushed hands, folding butter into flour. ', 'Once the tarts had been baked, we split them down the middle, until my crush became my friend, ', 'and we both grew up, and came out. We moved on to other relationships and other pleasures in other places — ', 'but I never entirely forgot about the tarts.', '', 'A pecan tart is a tiny ode to pleasure. The pastry is unobtrusive but flavorful. ', 'Cream cheese adds a waft of sweetness. Its butter pastry dissolves on your tongue, ', 'beside a pecan mixture that’s crunchy and decadent and punchy — ', 'but not so filling that you can’t chew a single tart over coffee, or gulp a handful just before you’ve set the ', 'table for dinner. For a small amount of labor, the feeling you’ll yield is immense. Whether in moderation or excess, ', 'the pecan tart is a solid hang.']\n",
      "13\n",
      "------------\n",
      "['He looked up his father’s length and watched him bend backwards tossing one off in one jolt in a lordly manner, ', 'and a moment later heard him say to the man next him, “That’s my boy”; and felt a warmth of love. ', 'Next moment he felt his father’s hands under his armpits, and he was lifted, high, and seated on the bar, ', 'looking into a long row of huge bristling and bearded red faces. The eyes of the men nearest him were interested, ', 'and kind; some of them smiled; further away, the eyes were impersonal and questioning, but now even some of these ', 'began to smile. ', '', 'Somewhat timidly, but feeling assured that his father was proud of him and that he was liked, ', 'and liked these men, he smiled back; and suddenly many of the men laughed. He was disconcerted by their laughter ', 'and lost his smile a moment; then, realizing it was friendly, smiled again; and again they laughed. ', 'His father smiled at him. “That’s my boy,” he said warmly. “Six years old, and he can already read like ', 'I couldn’t read when I was twice his age.”']\n",
      "12\n",
      "------------\n"
     ]
    }
   ],
   "source": [
    "get_line_count()\n",
    "\n",
    "\n",
    "#all_texts[0]['lines'] -. shows us the lines in the first text \n",
    "\n",
    "#def get_line_count():\n",
    "    #for text in all_texts:\n",
    "        #print(text['title'])\n",
    "        #print(len(text['lines']))\n",
    "\n",
    "#get_line_count()"
   ]
  },
  {
   "cell_type": "markdown",
   "metadata": {},
   "source": [
    "Question 2\n",
    "Now write a function that prints out **one random line or sentence from each text**. Again, this function will look much the same as the last ones, but instead of getting numbers you need to get actual lines. I have included the necessary import and an example of how to get random integers. Basically, for each text you need to get one element from the list of lines/ sentences with a random number between 0 and the length of the list."
   ]
  },
  {
   "cell_type": "code",
   "execution_count": 398,
   "metadata": {},
   "outputs": [],
   "source": [
    "from random import randint\n",
    "#Write your function here name it show_random_lines()\n",
    "def show_random_lines():\n",
    "    for text in all_texts:\n",
    "        print(text['lines']).randint(0,19)\n",
    "        print(\"------------\")\n",
    "\n",
    "#This should be inside the inner loop \n",
    "#so you get a fresh random number for each text\n",
    "#And it should not be from 0 to 9, but 0 to what?\n",
    "#Keep in mind that the range (0,9) gives you any number \n",
    "#from 0 to 9 including both 0 and 9.\n",
    "#random_num = randint(0, 9)\n",
    "\n",
    "\n",
    "#DON'T KNOW "
   ]
  },
  {
   "cell_type": "code",
   "execution_count": 399,
   "metadata": {},
   "outputs": [
    {
     "name": "stdout",
     "output_type": "stream",
     "text": [
      "['October. Here in this dank, unfamiliar kitchen', \"I study my father's embarrassed young man's face.\", 'Sheepish grin, he holds in one hand a string', 'of spiny yellow perch, in the other', 'a bottle of Carlsbad Beer.', '', 'In jeans and denim shirt, he leans', 'against the front fender of a 1934 Ford.', 'He would like to pose bluff and hearty for his posterity,', 'Wear his old hat cocked over his ear.', 'All his life my father wanted to be bold.', '', 'But the eyes give him away, and the hands', 'that limply offer the string of dead perch', 'and the bottle of beer. Father, I love you,', \"yet how can I say thank you, I who can't hold my liquor either,\", \"and don't even know the places to fish?\"]\n"
     ]
    },
    {
     "ename": "AttributeError",
     "evalue": "'NoneType' object has no attribute 'randint'",
     "output_type": "error",
     "traceback": [
      "\u001b[0;31m---------------------------------------------------------------------------\u001b[0m",
      "\u001b[0;31mAttributeError\u001b[0m                            Traceback (most recent call last)",
      "Cell \u001b[0;32mIn [399], line 1\u001b[0m\n\u001b[0;32m----> 1\u001b[0m \u001b[43mshow_random_lines\u001b[49m\u001b[43m(\u001b[49m\u001b[43m)\u001b[49m\n",
      "Cell \u001b[0;32mIn [398], line 5\u001b[0m, in \u001b[0;36mshow_random_lines\u001b[0;34m()\u001b[0m\n\u001b[1;32m      3\u001b[0m \u001b[38;5;28;01mdef\u001b[39;00m \u001b[38;5;21mshow_random_lines\u001b[39m():\n\u001b[1;32m      4\u001b[0m     \u001b[38;5;28;01mfor\u001b[39;00m text \u001b[38;5;129;01min\u001b[39;00m all_texts:\n\u001b[0;32m----> 5\u001b[0m         \u001b[38;5;28;43mprint\u001b[39;49m\u001b[43m(\u001b[49m\u001b[43mtext\u001b[49m\u001b[43m[\u001b[49m\u001b[38;5;124;43m'\u001b[39;49m\u001b[38;5;124;43mlines\u001b[39;49m\u001b[38;5;124;43m'\u001b[39;49m\u001b[43m]\u001b[49m\u001b[43m)\u001b[49m\u001b[38;5;241;43m.\u001b[39;49m\u001b[43mrandint\u001b[49m(\u001b[38;5;241m0\u001b[39m,\u001b[38;5;241m19\u001b[39m)\n\u001b[1;32m      6\u001b[0m         \u001b[38;5;28mprint\u001b[39m(\u001b[38;5;124m\"\u001b[39m\u001b[38;5;124m------------\u001b[39m\u001b[38;5;124m\"\u001b[39m)\n",
      "\u001b[0;31mAttributeError\u001b[0m: 'NoneType' object has no attribute 'randint'"
     ]
    }
   ],
   "source": [
    "show_random_lines()\n",
    "\n",
    "\n",
    "# def show_random_lines:\n",
    "    #for text in all_texts:\n",
    "        #print(text['title'])\n",
    "        #rand_index_num = randint(0, len(text['lines'])-1)\n",
    "        #print(text['lines'][rand_index_num])\n",
    "#show_random_lines()\n",
    "\n",
    "\n",
    "#if you want to make sure it doesn't return blank lines \n",
    "# def show_random_lines:\n",
    "    #for text in all_texts:\n",
    "        #print(text['title'])\n",
    "        #rand_index_num = randint(0, len(text['lines'])-1)\n",
    "        #not_blank = len(text['lines'][rand_index_num].strip())\n",
    "        #while not_blank<2:\n",
    "            #rand_index_num = randint(0, len(text['lines'])-1)\n",
    "            #not_blank = len(text['lines'][rand_index_num].strip())\n",
    "        #print(text['lines'][rand_index_num])\n",
    "#show_random_lines()\n",
    "#<2 = to find blanks with no less than 2 characters \n",
    "#.strip = taking whatever spaces out of the blank line so it's 0 characters \n",
    "#while = keep going while it's true "
   ]
  },
  {
   "cell_type": "code",
   "execution_count": 428,
   "metadata": {},
   "outputs": [
    {
     "name": "stdout",
     "output_type": "stream",
     "text": [
      "Photograph of My Father in His Twenty-Second Year\n",
      "All his life my father wanted to be bold.\n",
      "------\n",
      "How to Fight Back Against the Inhumanity of Modern Work\n",
      "They looked to Sabbath laws, in part, to help achieve this.\n",
      "------\n",
      "Keanu Reeves Is Too Good for This World\n",
      "“I know that the ones who love us will miss us.” It was a response so wise, so genuinely thoughtful, \n",
      "------\n",
      "Pecan Tarts: A Love Story\n",
      "I crushed pecans. He sifted sugar. Sometimes we brushed hands, folding butter into flour. \n",
      "------\n",
      "A Death in the Family\n",
      "Next moment he felt his father’s hands under his armpits, and he was lifted, high, and seated on the bar, \n",
      "------\n"
     ]
    }
   ],
   "source": [
    "def show_random_lines():\n",
    "    for text in all_texts:\n",
    "        print(text['title'])\n",
    "        rand_index_num = randint(0, len(text['lines'])-1)\n",
    "        print(text['lines'][rand_index_num])\n",
    "        print(\"------\")\n",
    "show_random_lines()"
   ]
  },
  {
   "cell_type": "markdown",
   "metadata": {},
   "source": [
    "Question 3\n",
    "This is a little bit different--instead of printing out something from each text, please **print the entire text of the longest text**. Remember in the first function, I printed out the length of each text. Well, you need to test for the longest text as you loop through and when you're done looping through, print out the one that is longest.\n",
    "\n",
    "**Major hints!**: To do this you will need two **tracking variables** set before the loop runs: A numerical one that tracks the longest length (the number), and string variable remembers the actual text that has that length.\n",
    "\n",
    "Like this: longest_length = 0 and longest_text = \"\"\n",
    "\n",
    "When you loop through, you need to test if each text was longer than the last one, and if it is longer--you update longest_length and longest_text to reflect the highest length, and the actual text. When the loop is over you then print out that longest_text string."
   ]
  },
  {
   "cell_type": "code",
   "execution_count": 400,
   "metadata": {},
   "outputs": [],
   "source": [
    "#Write your function here, name it longest_text()"
   ]
  },
  {
   "cell_type": "code",
   "execution_count": 429,
   "metadata": {},
   "outputs": [
    {
     "name": "stdout",
     "output_type": "stream",
     "text": [
      "A Death in the Family\n",
      "\n",
      "When Philip Schaff, a 19th-century Swiss German theologian, immigrated to the United States, \n",
      "he was impressed by the ability of ideologically disparate religious groups to collaborate politically \n",
      "to solve social ills. For Schaff and many others, a key issue in the burgeoning industrialist economy of \n",
      "the North was the preservation of time for worship, rest and family life to preserve the dignity of the worker. \n",
      "\n",
      "They looked to Sabbath laws, in part, to help achieve this.\n",
      "Schaff stressed that keeping the Sabbath wasn’t merely a religious observance but served a civic function. \n",
      "It was a practical way, through time itself, to treat workers as valuable humans with whole lives to be lived.\n",
      "\n",
      "In an 1863 address to the National Sabbath Convention, \n",
      "Schaff argued that “Sabbath rest” is necessary for both body and soul; that it preserves “health, \n",
      "wealth and the temporal happiness and prosperity of individuals and communities.” He went on to say that \n",
      "“our energy and restless activity as a nation, our teeming wealth and prosperity and our very liberty makes \n",
      "the Sabbath a special necessity for us.” \n",
      "\n",
      "He called Sabbath laws a check and limit to the “degrading worship of the almighty dollar.” \n",
      "“Take away the Sabbath,” Schaff said, “and you destroy the most humane and democratic institution,” \n",
      "which is made particularly for “the man of labor and toil, of poverty and sorrow.”\n",
      "\n",
      "1389\n",
      "------------\n"
     ]
    }
   ],
   "source": [
    "#longest_text()\n",
    "def longest_text():\n",
    "    longest_length = 0\n",
    "    long_text = \"\"\n",
    "    for text in all_texts:\n",
    "        if (len(text['text_as_string']))>longest_length:\n",
    "            longest_length=len(text['text_as_string'])\n",
    "            long_text = ((text['text_as_string']))\n",
    "    print(text['title'])\n",
    "    print(long_text)\n",
    "    print(longest_length)\n",
    "    print(\"------------\")\n",
    "            \n",
    "longest_text()"
   ]
  },
  {
   "cell_type": "code",
   "execution_count": 431,
   "metadata": {},
   "outputs": [
    {
     "name": "stdout",
     "output_type": "stream",
     "text": [
      "\n",
      "When Philip Schaff, a 19th-century Swiss German theologian, immigrated to the United States, \n",
      "he was impressed by the ability of ideologically disparate religious groups to collaborate politically \n",
      "to solve social ills. For Schaff and many others, a key issue in the burgeoning industrialist economy of \n",
      "the North was the preservation of time for worship, rest and family life to preserve the dignity of the worker. \n",
      "\n",
      "They looked to Sabbath laws, in part, to help achieve this.\n",
      "Schaff stressed that keeping the Sabbath wasn’t merely a religious observance but served a civic function. \n",
      "It was a practical way, through time itself, to treat workers as valuable humans with whole lives to be lived.\n",
      "\n",
      "In an 1863 address to the National Sabbath Convention, \n",
      "Schaff argued that “Sabbath rest” is necessary for both body and soul; that it preserves “health, \n",
      "wealth and the temporal happiness and prosperity of individuals and communities.” He went on to say that \n",
      "“our energy and restless activity as a nation, our teeming wealth and prosperity and our very liberty makes \n",
      "the Sabbath a special necessity for us.” \n",
      "\n",
      "He called Sabbath laws a check and limit to the “degrading worship of the almighty dollar.” \n",
      "“Take away the Sabbath,” Schaff said, “and you destroy the most humane and democratic institution,” \n",
      "which is made particularly for “the man of labor and toil, of poverty and sorrow.”\n",
      "\n"
     ]
    }
   ],
   "source": [
    "#Answer\n",
    "def longest_text():\n",
    "    longest_length=0\n",
    "    longest_text=\"\"\n",
    "    for text in all_texts:\n",
    "        if len(text['text_as_string'])> longest_length:\n",
    "            longest_length =len(text['text_as_string'])\n",
    "            longest_text = text['text_as_string']\n",
    "    print(longest_text)\n",
    "longest_text()"
   ]
  },
  {
   "cell_type": "markdown",
   "metadata": {},
   "source": [
    "Question 4\n",
    "This is kind of a combination of the first two functions--write a function that gets the **average line/sentence length for each text**."
   ]
  },
  {
   "cell_type": "code",
   "execution_count": 402,
   "metadata": {},
   "outputs": [],
   "source": [
    "#Write your function here\n",
    "def average_line_length():\n",
    "    for text in all_texts:\n",
    "        print(text['title'])\n",
    "        print(len(text['text_as_string'])/len(text['lines']))\n",
    "        print(\"------------\")"
   ]
  },
  {
   "cell_type": "code",
   "execution_count": 403,
   "metadata": {},
   "outputs": [
    {
     "name": "stdout",
     "output_type": "stream",
     "text": [
      "Photograph of My Father in His Twenty-Second Year\n",
      "38.470588235294116\n",
      "------------\n",
      "How to Fight Back Against the Inhumanity of Modern Work\n",
      "77.16666666666667\n",
      "------------\n",
      "Keanu Reeves Is Too Good for This World\n",
      "74.53333333333333\n",
      "------------\n",
      "Pecan Tarts: A Love Story\n",
      "76.46153846153847\n",
      "------------\n",
      "A Death in the Family\n",
      "85.5\n",
      "------------\n"
     ]
    }
   ],
   "source": [
    "average_line_length()"
   ]
  },
  {
   "cell_type": "code",
   "execution_count": 433,
   "metadata": {},
   "outputs": [
    {
     "name": "stdout",
     "output_type": "stream",
     "text": [
      "37.470588235294116\n",
      "76.11111111111111\n",
      "73.46666666666667\n",
      "75.38461538461539\n",
      "84.41666666666667\n"
     ]
    }
   ],
   "source": [
    "#Answer:\n",
    "\n",
    "def average_line_length():\n",
    "    for text in all_texts: \n",
    "        total_length=0\n",
    "        for line in text['lines']:\n",
    "            total_length+=len(line)\n",
    "        print(total_length/len(text['lines']))\n",
    "average_line_length()\n",
    "            \n",
    "#+= means culumatively adding. To progressively add to a set value "
   ]
  },
  {
   "cell_type": "code",
   "execution_count": 441,
   "metadata": {},
   "outputs": [
    {
     "name": "stdout",
     "output_type": "stream",
     "text": [
      "38.470588235294116\n",
      "77.16666666666667\n",
      "74.53333333333333\n",
      "76.46153846153847\n",
      "85.5\n"
     ]
    }
   ],
   "source": [
    "def average_line_length():\n",
    "    for text in all_texts:\n",
    "        print(len(text['text_as_string'])/len(text['lines']))\n",
    "average_line_length()\n",
    "\n",
    "#Includes line breaks "
   ]
  },
  {
   "cell_type": "markdown",
   "metadata": {},
   "source": [
    "Question 5\n",
    "**Print the longest line/sentence in each text**. \n",
    "This is similar to question 3--but your two tracking variables (longest_length and longest_line) need to be placed right before the inside loop--and then you print the lines each time the inside loop ends."
   ]
  },
  {
   "cell_type": "code",
   "execution_count": 404,
   "metadata": {},
   "outputs": [],
   "source": [
    "#Write your function here\n",
    "def longest_line_in_each():\n",
    "    for text in all_texts:\n",
    "        longest_length = 0\n",
    "        longest_text = \"\"\n",
    "        for line in text['lines']:\n",
    "            if len(line) > longest_length:\n",
    "                longest_length = len(line)\n",
    "                longest_text = line\n",
    "        print(longest_text)\n",
    "        print(\"------------\")"
   ]
  },
  {
   "cell_type": "code",
   "execution_count": 405,
   "metadata": {},
   "outputs": [
    {
     "name": "stdout",
     "output_type": "stream",
     "text": [
      "yet how can I say thank you, I who can't hold my liquor either,\n",
      "------------\n",
      "the North was the preservation of time for worship, rest and family life to preserve the dignity of the worker. \n",
      "------------\n",
      "Luckily, the Internet has recently provided us with an unlikely antidote to everything wrong with the news cycle: \n",
      "------------\n",
      "A guy who lived next door. In the way of queer latchkey teenagers globally, we baked at his place in the afternoons. \n",
      "------------\n",
      "looking into a long row of huge bristling and bearded red faces. The eyes of the men nearest him were interested, \n",
      "------------\n"
     ]
    }
   ],
   "source": [
    "longest_line_in_each()"
   ]
  },
  {
   "cell_type": "code",
   "execution_count": 443,
   "metadata": {},
   "outputs": [
    {
     "name": "stdout",
     "output_type": "stream",
     "text": [
      "Photograph of My Father in His Twenty-Second Year\n",
      "yet how can I say thank you, I who can't hold my liquor either,\n",
      "63\n",
      "------\n",
      "How to Fight Back Against the Inhumanity of Modern Work\n",
      "the North was the preservation of time for worship, rest and family life to preserve the dignity of the worker. \n",
      "112\n",
      "------\n",
      "Keanu Reeves Is Too Good for This World\n",
      "Luckily, the Internet has recently provided us with an unlikely antidote to everything wrong with the news cycle: \n",
      "114\n",
      "------\n",
      "Pecan Tarts: A Love Story\n",
      "A guy who lived next door. In the way of queer latchkey teenagers globally, we baked at his place in the afternoons. \n",
      "117\n",
      "------\n",
      "A Death in the Family\n",
      "looking into a long row of huge bristling and bearded red faces. The eyes of the men nearest him were interested, \n",
      "114\n",
      "------\n"
     ]
    }
   ],
   "source": [
    "def longest_line_in_each():\n",
    "    for text in all_texts:\n",
    "        longest_line=0\n",
    "        longest_text=\"\"\n",
    "        for line in text['lines']:\n",
    "            if len(line)> longest_line:\n",
    "                longest_line = len(line)\n",
    "                longest_text = line\n",
    "        print(text['title'])\n",
    "        print(longest_text)\n",
    "        print(longest_line)\n",
    "        print(\"------\")\n",
    "longest_line_in_each()"
   ]
  },
  {
   "cell_type": "markdown",
   "metadata": {},
   "source": [
    "Question 6\n",
    "**Print the shortest single line/sentence out of all of the texts that is greater than zero**\n",
    "This is the tricky-ish: You need to place the tracking variables outside the loop (like question 4, but the loop through all of the lines, test for the shortest one (that is greater than 0)."
   ]
  },
  {
   "cell_type": "code",
   "execution_count": 406,
   "metadata": {},
   "outputs": [],
   "source": [
    "#Write your function here\n",
    "def shortest_of_all_lines():\n",
    "    for text in all_texts:\n",
    "        shortest_length = 1000\n",
    "        shortest_text = \"\"\n",
    "        for line in text['lines']:\n",
    "            if len(line) < shortest_length:\n",
    "                shortest_length = len(line)\n",
    "                shortest_text = line\n",
    "    print(shortest_text)\n",
    "    print(\"------------\")\n",
    "    \n",
    "#I put 1000 because all the lines are shorter than 1000 characters. Why doesn't this work? "
   ]
  },
  {
   "cell_type": "code",
   "execution_count": 407,
   "metadata": {},
   "outputs": [
    {
     "name": "stdout",
     "output_type": "stream",
     "text": [
      "\n",
      "------------\n"
     ]
    }
   ],
   "source": [
    "shortest_of_all_lines()"
   ]
  },
  {
   "cell_type": "code",
   "execution_count": 450,
   "metadata": {},
   "outputs": [
    {
     "name": "stdout",
     "output_type": "stream",
     "text": [
      "began to smile. \n"
     ]
    }
   ],
   "source": [
    "def shortest_of_all_lines():\n",
    "    shortest_length = 10000000\n",
    "    shortest_text=\"\"\n",
    "    for text in all_texts:\n",
    "        for line in text['lines']:\n",
    "            if len(line.strip())<shortest_length and len(line)>1:\n",
    "                shortest_length=len(line)\n",
    "                shortest_text=line\n",
    "    print(shortest_text)\n",
    "shortest_of_all_lines()"
   ]
  },
  {
   "cell_type": "markdown",
   "metadata": {},
   "source": [
    "## searching with regular expressions\n",
    "In the functions below you will search all the texts using regular expressions. The first few of these functions should not be too challenging--you just need to adjust the regular expression inside the function. At points it gets a little more complex as you have to control the looping through the lists and dictionaries."
   ]
  },
  {
   "cell_type": "code",
   "execution_count": 408,
   "metadata": {},
   "outputs": [],
   "source": [
    "def get_this_word(word):\n",
    "    my_regex = r\"\\b\" + word + r\"\\b\"\n",
    "    for text in all_texts:\n",
    "        result = [line for line in text['lines'] if re.search(my_regex, line, re.IGNORECASE)]\n",
    "        if len(result) > 0:\n",
    "            print(text['title'])\n",
    "            [print(line) for line in result]\n",
    "            print(\"------------\")"
   ]
  },
  {
   "cell_type": "code",
   "execution_count": 409,
   "metadata": {},
   "outputs": [
    {
     "name": "stdout",
     "output_type": "stream",
     "text": [
      "Photograph of My Father in His Twenty-Second Year\n",
      "Sheepish grin, he holds in one hand a string\n",
      "a bottle of Carlsbad Beer.\n",
      "against the front fender of a 1934 Ford.\n",
      "------------\n",
      "How to Fight Back Against the Inhumanity of Modern Work\n",
      "When Philip Schaff, a 19th-century Swiss German theologian, immigrated to the United States, \n",
      "to solve social ills. For Schaff and many others, a key issue in the burgeoning industrialist economy of \n",
      "Schaff stressed that keeping the Sabbath wasn’t merely a religious observance but served a civic function. \n",
      "It was a practical way, through time itself, to treat workers as valuable humans with whole lives to be lived.\n",
      "“our energy and restless activity as a nation, our teeming wealth and prosperity and our very liberty makes \n",
      "the Sabbath a special necessity for us.” \n",
      "He called Sabbath laws a check and limit to the “degrading worship of the almighty dollar.” \n",
      "------------\n",
      "Keanu Reeves Is Too Good for This World\n",
      "and a kind of awe at the foolishness of fellow human beings. \n",
      "Take, for instance, a moment, a few weeks ago, when Reeves appeared on “The Late Show” to promote \n",
      "Reeves was wearing a dark suit and tie, in the vein of a sensitive mafioso who is considering leaving it \n",
      "all behind to enter the priesthood. He paused for a moment, then answered, with some care, \n",
      "“I know that the ones who love us will miss us.” It was a response so wise, so genuinely thoughtful, \n",
      "that it seemed like a rebuke to the usual canned blather of late-night television. \n",
      "The clip was retweeted more than a hundred thousand times, but, when I watched it, \n",
      "I felt like I was standing alone in a rock garden, having a koan whispered into my ear.\n",
      "------------\n",
      "Pecan Tarts: A Love Story\n",
      "My first pecan tart came from a crush. \n",
      "A guy who lived next door. In the way of queer latchkey teenagers globally, we baked at his place in the afternoons. \n",
      "A pecan tart is a tiny ode to pleasure. The pastry is unobtrusive but flavorful. \n",
      "Cream cheese adds a waft of sweetness. Its butter pastry dissolves on your tongue, \n",
      "beside a pecan mixture that’s crunchy and decadent and punchy — \n",
      "but not so filling that you can’t chew a single tart over coffee, or gulp a handful just before you’ve set the \n",
      "table for dinner. For a small amount of labor, the feeling you’ll yield is immense. Whether in moderation or excess, \n",
      "the pecan tart is a solid hang.\n",
      "------------\n",
      "A Death in the Family\n",
      "He looked up his father’s length and watched him bend backwards tossing one off in one jolt in a lordly manner, \n",
      "and a moment later heard him say to the man next him, “That’s my boy”; and felt a warmth of love. \n",
      "looking into a long row of huge bristling and bearded red faces. The eyes of the men nearest him were interested, \n",
      "and lost his smile a moment; then, realizing it was friendly, smiled again; and again they laughed. \n",
      "------------\n"
     ]
    }
   ],
   "source": [
    "get_this_word('a')"
   ]
  },
  {
   "cell_type": "markdown",
   "metadata": {},
   "source": [
    "Question 7\n",
    "Print out the lines that **start** with the word entered.  You just need copy the function above and then adjust the regular expression a bit."
   ]
  },
  {
   "cell_type": "code",
   "execution_count": 453,
   "metadata": {},
   "outputs": [],
   "source": [
    "#Write your function here\n",
    "\n",
    "def line_starts_with(word):\n",
    "    my_regex = r\"^\" + word\n",
    "    for text in all_texts:\n",
    "        result = [line for line in text['lines'] if re.search(my_regex, line, re.IGNORECASE)]\n",
    "        if len(result) > 0:\n",
    "            #print(text['title'])\n",
    "            [print(line) for line in result]\n",
    "            print(\"------------\")"
   ]
  },
  {
   "cell_type": "code",
   "execution_count": 454,
   "metadata": {},
   "outputs": [
    {
     "name": "stdout",
     "output_type": "stream",
     "text": [
      "the North was the preservation of time for worship, rest and family life to preserve the dignity of the worker. \n",
      "They looked to Sabbath laws, in part, to help achieve this.\n",
      "the Sabbath a special necessity for us.” \n",
      "------------\n",
      "The story, like many stories these days, provoked anxiety, dread, \n",
      "the actor Keanu Reeves.\n",
      "The clip was retweeted more than a hundred thousand times, but, when I watched it, \n",
      "------------\n",
      "the pecan tart is a solid hang.\n",
      "------------\n"
     ]
    }
   ],
   "source": [
    "line_starts_with('the')"
   ]
  },
  {
   "cell_type": "code",
   "execution_count": 455,
   "metadata": {},
   "outputs": [],
   "source": [
    "#ANSWER:\n",
    "\n",
    "def line_starts_with(word):\n",
    "    my_regex = r\"^\" + word + r\"\\b\"\n",
    "    for text in all_texts:\n",
    "        result = [line for line in text['lines'] if re.search(my_regex, line, re.IGNORECASE)]\n",
    "        if len(result) > 0:\n",
    "            #print(text['title'])\n",
    "            [print(line) for line in result]\n",
    "            print(\"------------\")"
   ]
  },
  {
   "cell_type": "code",
   "execution_count": 456,
   "metadata": {},
   "outputs": [
    {
     "name": "stdout",
     "output_type": "stream",
     "text": [
      "the North was the preservation of time for worship, rest and family life to preserve the dignity of the worker. \n",
      "the Sabbath a special necessity for us.” \n",
      "------------\n",
      "The story, like many stories these days, provoked anxiety, dread, \n",
      "the actor Keanu Reeves.\n",
      "The clip was retweeted more than a hundred thousand times, but, when I watched it, \n",
      "------------\n",
      "the pecan tart is a solid hang.\n",
      "------------\n"
     ]
    }
   ],
   "source": [
    "line_starts_with('the')"
   ]
  },
  {
   "cell_type": "markdown",
   "metadata": {},
   "source": [
    "Question 8\n",
    "Print out the lines that **end** with the word entered.  Again you just need to adjust the regular expression here."
   ]
  },
  {
   "cell_type": "code",
   "execution_count": 412,
   "metadata": {},
   "outputs": [],
   "source": [
    "#Write your function here\n",
    "\n",
    "def line_ends_with(word):\n",
    "    my_regex = word + r\"\\b\"\n",
    "    for text in all_texts:\n",
    "        result = [line for line in text['lines'] if re.search(my_regex, line, re.IGNORECASE)]\n",
    "        if len(result) > 0:\n",
    "            #print(text['title'])\n",
    "            [print(line) for line in result]\n",
    "            print(\"------------\")\n",
    "            \n",
    "#my_regex = r\"\\b\" +word + r\"\\b\\W*$\"\""
   ]
  },
  {
   "cell_type": "code",
   "execution_count": 457,
   "metadata": {},
   "outputs": [],
   "source": [
    "line_ends_with('whip')"
   ]
  },
  {
   "cell_type": "code",
   "execution_count": 464,
   "metadata": {},
   "outputs": [
    {
     "name": "stdout",
     "output_type": "stream",
     "text": [
      "I study my father's embarrassed young man's face.\n",
      "and the bottle of beer. Father, I love you,\n",
      "yet how can I say thank you, I who can't hold my liquor either,\n",
      "------------\n",
      "“I know that the ones who love us will miss us.” It was a response so wise, so genuinely thoughtful, \n",
      "The clip was retweeted more than a hundred thousand times, but, when I watched it, \n",
      "I felt like I was standing alone in a rock garden, having a koan whispered into my ear.\n",
      "------------\n",
      "I crushed pecans. He sifted sugar. Sometimes we brushed hands, folding butter into flour. \n",
      "but I never entirely forgot about the tarts.\n",
      "------------\n",
      "I couldn’t read when I was twice his age.”\n",
      "------------\n"
     ]
    }
   ],
   "source": [
    "#DETOUR:\n",
    "def line_contains(word,bound=\"all\"):\n",
    "    my_regex= (r\"^\\W*\" if bound == \"start\" else r\"\\b\") + word + (r\"\\b\\W*\" if bound == \"end\" else r\"\\b\")\n",
    "    for text in all_texts:\n",
    "        result = [line for line in text['lines'] if re.search(my_regex, line, re.IGNORECASE)]\n",
    "        if len(result) > 0:\n",
    "            #print(text['title'])\n",
    "            [print(line) for line in result]\n",
    "            print(\"------------\")\n",
    "line_contains('I', \"yellow\")"
   ]
  },
  {
   "cell_type": "markdown",
   "metadata": {},
   "source": [
    "Question 9\n",
    "Print out **how many times the word was found in each text.** In this case, instead of the list comprehension, you want to run a re.findall() on the string of the text (not the list) and then count the number of elements in the list of results.\n",
    "\n",
    "Hint: use the original function at the beginning of this section, and make the proper adjustments to the variable \"result\""
   ]
  },
  {
   "cell_type": "code",
   "execution_count": 414,
   "metadata": {},
   "outputs": [],
   "source": [
    "#Write your function here\n",
    "\n",
    "def how_many_times(word):\n",
    "    my_regex = r\"\\b\" + word + r\"\\b\"\n",
    "    for text in all_texts:\n",
    "        result = re.findall(my_regex, text['text_as_string'], re.IGNORECASE)\n",
    "        if len(result) > 0:\n",
    "            print(text['title'])\n",
    "            [print(len(result)) in result]\n",
    "            print(\"------------\")"
   ]
  },
  {
   "cell_type": "code",
   "execution_count": 415,
   "metadata": {},
   "outputs": [
    {
     "name": "stdout",
     "output_type": "stream",
     "text": [
      "Photograph of My Father in His Twenty-Second Year\n",
      "3\n",
      "------------\n",
      "How to Fight Back Against the Inhumanity of Modern Work\n",
      "8\n",
      "------------\n",
      "Keanu Reeves Is Too Good for This World\n",
      "11\n",
      "------------\n",
      "Pecan Tarts: A Love Story\n",
      "10\n",
      "------------\n",
      "A Death in the Family\n",
      "5\n",
      "------------\n"
     ]
    }
   ],
   "source": [
    "how_many_times('a')"
   ]
  },
  {
   "cell_type": "code",
   "execution_count": 467,
   "metadata": {},
   "outputs": [
    {
     "name": "stdout",
     "output_type": "stream",
     "text": [
      "Photograph of My Father in His Twenty-Second Year\n",
      "7\n",
      "------------\n",
      "How to Fight Back Against the Inhumanity of Modern Work\n",
      "16\n",
      "------------\n",
      "Keanu Reeves Is Too Good for This World\n",
      "15\n",
      "------------\n",
      "Pecan Tarts: A Love Story\n",
      "9\n",
      "------------\n",
      "A Death in the Family\n",
      "6\n",
      "------------\n"
     ]
    }
   ],
   "source": [
    "#ANSWER:\n",
    "\n",
    "def how_many_times(word):\n",
    "    my_regex = r\"\\b\" + word + r\"\\b\"\n",
    "    for text in all_texts:\n",
    "        result = re.findall(my_regex, text['text_as_string'], re.IGNORECASE)\n",
    "        if len(result) > 0:\n",
    "            print(text['title'])\n",
    "            print(len(result))\n",
    "            print(\"------------\")\n",
    "how_many_times('the')"
   ]
  },
  {
   "cell_type": "markdown",
   "metadata": {},
   "source": [
    "Question 10\n",
    "Print out **the text that has the highest occurrence of the word** you searched for. This is similar to the last function, but here you need tracking variables like you had in Question 3.\n"
   ]
  },
  {
   "cell_type": "code",
   "execution_count": 416,
   "metadata": {},
   "outputs": [],
   "source": [
    "#Write your function here\n",
    "def text_with_the_most_occurance_of(word):\n",
    "    text_number=0\n",
    "    my_regex= r\"\\b\" + word + r\"\\b\"\n",
    "    for text in all_texts:\n",
    "        result= re.findall(my_regex, text['text_as_string'], re.IGNORECASE)\n",
    "        if len(result) > text_number:\n",
    "            text_number=len(result)\n",
    "            result = text['text_as_string']\n",
    "            print(result)\n",
    "            \n",
    "#DON'T KNOW WHY IT IS WRONG"
   ]
  },
  {
   "cell_type": "code",
   "execution_count": 417,
   "metadata": {},
   "outputs": [
    {
     "name": "stdout",
     "output_type": "stream",
     "text": [
      "\n",
      "He looked up his father’s length and watched him bend backwards tossing one off in one jolt in a lordly manner, \n",
      "and a moment later heard him say to the man next him, “That’s my boy”; and felt a warmth of love. \n",
      "Next moment he felt his father’s hands under his armpits, and he was lifted, high, and seated on the bar, \n",
      "looking into a long row of huge bristling and bearded red faces. The eyes of the men nearest him were interested, \n",
      "and kind; some of them smiled; further away, the eyes were impersonal and questioning, but now even some of these \n",
      "began to smile. \n",
      "\n",
      "Somewhat timidly, but feeling assured that his father was proud of him and that he was liked, \n",
      "and liked these men, he smiled back; and suddenly many of the men laughed. He was disconcerted by their laughter \n",
      "and lost his smile a moment; then, realizing it was friendly, smiled again; and again they laughed. \n",
      "His father smiled at him. “That’s my boy,” he said warmly. “Six years old, and he can already read like \n",
      "I couldn’t read when I was twice his age.”\n",
      "\n",
      "------------\n"
     ]
    }
   ],
   "source": [
    "text_with_most_occurance_of('whip')"
   ]
  },
  {
   "cell_type": "code",
   "execution_count": 477,
   "metadata": {},
   "outputs": [
    {
     "name": "stdout",
     "output_type": "stream",
     "text": [
      "['the', 'the', 'the', 'the', 'the', 'the', 'the']\n",
      "['the', 'the', 'the', 'the', 'the', 'the', 'the', 'the', 'the', 'the', 'the', 'the', 'the', 'the', 'the', 'the']\n",
      "['The', 'the', 'the', 'the', 'the', 'The', 'the', 'the', 'the', 'the', 'the', 'the', 'the', 'the', 'The']\n",
      "['the', 'the', 'the', 'the', 'the', 'The', 'the', 'the', 'the']\n",
      "['the', 'the', 'The', 'the', 'the', 'the']\n",
      "How to Fight Back Against the Inhumanity of Modern Work: 16\n"
     ]
    }
   ],
   "source": [
    "#ANSWER:\n",
    "\n",
    "def text_with_the_most_occurance_of(word):\n",
    "    text_name=\"\"\n",
    "    text_number=0\n",
    "    my_regex= r\"\\b\" + word + r\"\\b\"\n",
    "    for text in all_texts:\n",
    "        result= re.findall(my_regex, text['text_as_string'], re.IGNORECASE)\n",
    "        print(result)\n",
    "        if len(result) > text_number:\n",
    "            text_name=text['title']\n",
    "            text_number=len(result)\n",
    "            text_number=len(result)\n",
    "    print(text_name+\": \" +str(text_number))\n",
    "            \n",
    "text_with_the_most_occurance_of('the')"
   ]
  },
  {
   "cell_type": "code",
   "execution_count": 418,
   "metadata": {},
   "outputs": [],
   "source": [
    "#Write your function here\n",
    "\n",
    "def lines_with_words_this_length(word):\n",
    "    my_regex = word + r\"{\\d}\"\n",
    "    for text in all_texts:\n",
    "        result = [line for line in text['lines'] if re.search(my_regex, line, re.IGNORECASE)]\n",
    "        if len(result) > 0:\n",
    "            print(text['title'])\n",
    "            [print(line) for line in result]\n",
    "            print(\"------------\")\n",
    "            \n",
    "#When I do r\"\\w{10}\", it works. When I put \\d in {} like {\\d}, code doesn't work "
   ]
  },
  {
   "cell_type": "code",
   "execution_count": 419,
   "metadata": {},
   "outputs": [],
   "source": [
    "lines_with_words_this_length('10')"
   ]
  },
  {
   "cell_type": "code",
   "execution_count": 482,
   "metadata": {},
   "outputs": [
    {
     "name": "stdout",
     "output_type": "stream",
     "text": [
      "How to Fight Back Against the Inhumanity of Modern Work\n",
      "he was impressed by the ability of ideologically disparate religious groups to collaborate politically \n",
      "to solve social ills. For Schaff and many others, a key issue in the burgeoning industrialist economy of \n",
      "------------\n",
      "Pecan Tarts: A Love Story\n",
      "and we both grew up, and came out. We moved on to other relationships and other pleasures in other places — \n",
      "------------\n"
     ]
    }
   ],
   "source": [
    "def lines_with_words_this_length(number):\n",
    "    my_regex = r\"\\b\\w{\" + number + r\"}\\b\"\n",
    "    for text in all_texts:\n",
    "        result = [line for line in text['lines'] if re.search(my_regex, line, re.IGNORECASE)]\n",
    "        if len(result) > 0:\n",
    "            print(text['title'])\n",
    "            [print(line) for line in result]\n",
    "            print(\"------------\")\n",
    "            \n",
    "lines_with_words_this_length('13')\n",
    "            "
   ]
  },
  {
   "cell_type": "code",
   "execution_count": 486,
   "metadata": {},
   "outputs": [
    {
     "name": "stdout",
     "output_type": "stream",
     "text": [
      "How to Fight Back Against the Inhumanity of Modern Work\n",
      "he was impressed by the ability of ideologically disparate religious groups to collaborate politically \n",
      "to solve social ills. For Schaff and many others, a key issue in the burgeoning industrialist economy of \n",
      "------------\n",
      "Pecan Tarts: A Love Story\n",
      "and we both grew up, and came out. We moved on to other relationships and other pleasures in other places — \n",
      "------------\n"
     ]
    }
   ],
   "source": [
    "#finding a range \n",
    "\n",
    "def lines_with_words_this_length(num1,num2):\n",
    "    my_regex = r\"\\b\\w{\" + num1 + r\",\" +num2+ r\"}\\b\"\n",
    "    for text in all_texts:\n",
    "        result = [line for line in text['lines'] if re.search(my_regex, line, re.IGNORECASE)]\n",
    "        if len(result) > 0:\n",
    "            print(text['title'])\n",
    "            [print(line) for line in result]\n",
    "            print(\"------------\")\n",
    "            \n",
    "lines_with_words_this_length('13','17')\n",
    "            "
   ]
  },
  {
   "cell_type": "markdown",
   "metadata": {
    "collapsed": true
   },
   "source": [
    "**Final question:** in this cell, describe two functions that you would like to write, not ones that you're able to write, but ones you think would be useful or interesting or fun, or might bring greater insight into a corpus of text. If you feel like trying to write it, go-ahead!"
   ]
  },
  {
   "cell_type": "code",
   "execution_count": 420,
   "metadata": {},
   "outputs": [],
   "source": [
    "#function 1: finding lines/sentences that contain a particular word/phrase\n",
    "#function 2: finding a particular word/phrase that may or may not have a hyphen in it "
   ]
  },
  {
   "cell_type": "markdown",
   "metadata": {
    "collapsed": true
   },
   "source": [
    "**Bonus question:** Write a function that counts word frequency: that is, it returns a dictionary with each unique word and its count, sorted by the most frequent. Note, this is highly stack-overflowable -- Python has some built in ways of doing this. If you're doing this, you might as well try to do it on your own. But it's up to you!"
   ]
  }
 ],
 "metadata": {
  "kernelspec": {
   "display_name": "Python 3 (ipykernel)",
   "language": "python",
   "name": "python3"
  },
  "language_info": {
   "codemirror_mode": {
    "name": "ipython",
    "version": 3
   },
   "file_extension": ".py",
   "mimetype": "text/x-python",
   "name": "python",
   "nbconvert_exporter": "python",
   "pygments_lexer": "ipython3",
   "version": "3.11.0rc2"
  }
 },
 "nbformat": 4,
 "nbformat_minor": 2
}
