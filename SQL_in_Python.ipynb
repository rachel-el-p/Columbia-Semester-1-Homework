{
 "cells": [
  {
   "cell_type": "markdown",
   "metadata": {},
   "source": [
    "# Writing SQL Queries in Python"
   ]
  },
  {
   "cell_type": "markdown",
   "metadata": {},
   "source": [
    "It's finally time (just one week in) to liberate yourself from running SQL in the shell! \n",
    "Now we will move into the peaceful iPython Notebook where we will happily play with our data for the next month."
   ]
  },
  {
   "cell_type": "markdown",
   "metadata": {},
   "source": [
    "## Python PostgreSQL libraries"
   ]
  },
  {
   "cell_type": "markdown",
   "metadata": {},
   "source": [
    "To connect from Python to the PostgreSQL database you have installed on your computer, we need a library (database adapter library). For this class we will use [pg8000](https://github.com/tlocke/pg8000). It is written entirely in Python, and it is easy to install (fingers crossed!). \n",
    "\n",
    "The other library many people use, [psycopg2](https://pynative.com/python-postgresql-tutorial/), is much faster(http://blog.fizyk.net.pl/blog/sqlalchemy-speed-tests-on-postgres-and-mysql.html) but tricky to install--so we will stick with the basics. If you find you need greater performance in the future, you will find the coding syntax quite similar. Both of these packages follow the same basic syntax based on the [Python Database API](https://www.python.org/dev/peps/pep-0249/)\n"
   ]
  },
  {
   "cell_type": "markdown",
   "metadata": {},
   "source": [
    "## Installing pg8000\n",
    "\n",
    "First make sure you have `pip` installed on computer! Then write:\n",
    "\n",
    "    pip install pg8000\n",
    "    \n",
    "(Hopefully this will do the trick. Use sudo if that's what you do.)"
   ]
  },
  {
   "cell_type": "markdown",
   "metadata": {},
   "source": [
    "## Connecting to a database with pg8000"
   ]
  },
  {
   "cell_type": "markdown",
   "metadata": {},
   "source": [
    "When using a SQL server from Python, two main objects are necessary to make the connection and to send queries and commands:\n",
    "\n",
    "1. The *connection Object*, pg8000.connect(), which connects you to the database and server. You can pass a few parameters inside the connect() function, including the name of the database, user, password and others. (See documentation here)[https://github.com/tlocke/pg8000#api-docs]\n",
    "\n",
    "2. *cursor objects*, which you use to make SQL queries and retrieve data returned from those queries.\n",
    "\n",
    "To create a connection object, call `pg8000`'s `connect()` function:"
   ]
  },
  {
   "cell_type": "code",
   "execution_count": 9,
   "metadata": {},
   "outputs": [
    {
     "name": "stdout",
     "output_type": "stream",
     "text": [
      "<class 'pg8000.dbapi.Connection'>\n"
     ]
    }
   ],
   "source": [
    "import pg8000.dbapi\n",
    "##########for older versions##########\n",
    "#for older versions:\n",
    "#import pg8000\n",
    "#conn = pg8000.connect(database=\"mondial\")\n",
    "\n",
    "##########connecting##########\n",
    "#You may need to specify the Username or More!!!\n",
    "#Here are all the possible parameters, you may need a few\n",
    "\n",
    "#pg8000.dbapi.connect(user, host='localhost', unix_sock=None, port=5432, database=None, password=None, ssl=None, timeout=None, application_name=None, tcp_keepalive=True)\n",
    "conn = pg8000.dbapi.connect(database=\"mondial\", user=\"rachelp\")\n",
    "print(type(conn))"
   ]
  },
  {
   "cell_type": "markdown",
   "metadata": {},
   "source": [
    "## Making a query"
   ]
  },
  {
   "cell_type": "markdown",
   "metadata": {},
   "source": [
    "Now that we've connected, you need create a cursor() object through which we will send commands. (Imagine this as an actual blinking cursor on page that you will type into. We are using the connection object's `.cursor()` method:"
   ]
  },
  {
   "cell_type": "code",
   "execution_count": 10,
   "metadata": {},
   "outputs": [
    {
     "name": "stdout",
     "output_type": "stream",
     "text": [
      "<class 'pg8000.dbapi.Cursor'>\n"
     ]
    }
   ],
   "source": [
    "cursor = conn.cursor()\n",
    "print(type(cursor))"
   ]
  },
  {
   "cell_type": "markdown",
   "metadata": {},
   "source": [
    "The cursor object has several methods of interest to us. You can find all of the properties of the cursor method on the [documentation page](http://pythonhosted.org/pg8000/dbapi.html). The first and most important is `.execute()`, which takes a SQL statement (in a Python string) as a parameter:"
   ]
  },
  {
   "cell_type": "code",
   "execution_count": 11,
   "metadata": {},
   "outputs": [],
   "source": [
    "#Highest mountains\n",
    "conn.rollback()\n",
    "cursor.execute(\"SELECT * FROM mountain;\")"
   ]
  },
  {
   "cell_type": "markdown",
   "metadata": {},
   "source": [
    "The `.execute()` performs the query, but doesn't return any values. After calling `.execute()`, you can call the cursor's `.fetchone()`, `.fetchmany()` or `.fetchall()`  methods to get rows returned from the query:"
   ]
  },
  {
   "cell_type": "code",
   "execution_count": 12,
   "metadata": {},
   "outputs": [
    {
     "data": {
      "text/plain": [
       "['Gunnbjørn Fjeld', None, Decimal('3694'), None, '(68.92,-29.9)']"
      ]
     },
     "execution_count": 12,
     "metadata": {},
     "output_type": "execute_result"
    }
   ],
   "source": [
    "#This gets one row, if you run again it gets the next row\n",
    "cursor.fetchone()"
   ]
  },
  {
   "cell_type": "code",
   "execution_count": null,
   "metadata": {},
   "outputs": [],
   "source": [
    "#This gets the next 8 rows\n",
    "cursor.fetchmany(8)"
   ]
  },
  {
   "cell_type": "code",
   "execution_count": null,
   "metadata": {},
   "outputs": [],
   "source": [
    "#This gets the rest of the rows (or a all of the rows if you call it first)\n",
    "cursor.fetchall()"
   ]
  },
  {
   "cell_type": "markdown",
   "metadata": {},
   "source": [
    "To get all of the rows returned from a query, you can also use the cursor object in a `for` loop, like so:"
   ]
  },
  {
   "cell_type": "code",
   "execution_count": 1,
   "metadata": {},
   "outputs": [
    {
     "ename": "NameError",
     "evalue": "name 'cursor' is not defined",
     "output_type": "error",
     "traceback": [
      "\u001b[0;31m---------------------------------------------------------------------------\u001b[0m",
      "\u001b[0;31mNameError\u001b[0m                                 Traceback (most recent call last)",
      "Cell \u001b[0;32mIn [1], line 2\u001b[0m\n\u001b[1;32m      1\u001b[0m myquery \u001b[38;5;241m=\u001b[39m \u001b[38;5;124m\"\u001b[39m\u001b[38;5;124mSELECT name, max(elevation) FROM mountain GROUP BY name ORDER BY max(elevation) DESC NULLS LAST;\u001b[39m\u001b[38;5;124m\"\u001b[39m\n\u001b[0;32m----> 2\u001b[0m \u001b[43mcursor\u001b[49m\u001b[38;5;241m.\u001b[39mexecute(myquery)\n\u001b[1;32m      3\u001b[0m \u001b[38;5;28;01mfor\u001b[39;00m row \u001b[38;5;129;01min\u001b[39;00m cursor:\n\u001b[1;32m      4\u001b[0m     \u001b[38;5;28mprint\u001b[39m(row)\n",
      "\u001b[0;31mNameError\u001b[0m: name 'cursor' is not defined"
     ]
    }
   ],
   "source": [
    "myquery = \"SELECT name, max(elevation) FROM mountain GROUP BY name ORDER BY max(elevation) DESC NULLS LAST;\"\n",
    "cursor.execute(myquery)\n",
    "for row in cursor:\n",
    "    print(row)"
   ]
  },
  {
   "cell_type": "code",
   "execution_count": null,
   "metadata": {},
   "outputs": [],
   "source": [
    "#Same thing but an extra variable\n",
    "myquery = \"SELECT name, max(elevation) FROM mountain GROUP BY name ORDER BY max(elevation) DESC NULLS LAST;\"\n",
    "cursor.execute(myquery)\n",
    "myresult = cursor.fetchall()\n",
    "for row in myresult:\n",
    "    print(row)"
   ]
  },
  {
   "cell_type": "code",
   "execution_count": null,
   "metadata": {},
   "outputs": [],
   "source": [
    "#Same thing but with space for a big query\n",
    "myquery = '''\n",
    "SELECT name, max(elevation) \n",
    "FROM mountain \n",
    "GROUP BY name \n",
    "ORDER BY max(elevation) DESC NULLS LAST;\n",
    "'''\n",
    "cursor.execute(myquery)\n",
    "myresult = cursor.fetchall()\n",
    "for row in myresult:\n",
    "    print(row)\n"
   ]
  },
  {
   "cell_type": "markdown",
   "metadata": {},
   "source": [
    "The `.fetchone()` method gets you a LIST for the results of each row (each row is one element in a TUPLE of LISTS returned by the cursor object.)"
   ]
  },
  {
   "cell_type": "markdown",
   "metadata": {},
   "source": [
    "## Flexible Queries\n",
    "Now that we are in Python we can be more flexible about what goes in and out of our queries. For example, if we are getting names of mountains inputted by the users of our website, we can set up a query to get information about the mountains from the database."
   ]
  },
  {
   "cell_type": "markdown",
   "metadata": {},
   "source": [
    "We could build our query as a simple variable (but you will see we don't want to):"
   ]
  },
  {
   "cell_type": "code",
   "execution_count": null,
   "metadata": {},
   "outputs": [],
   "source": [
    "userwants = \"Kilimanjaro\"\n",
    "badquery = \"SELECT elevation FROM mountain WHERE name = '\" + userwants + \"'\";\n",
    "print(badquery)"
   ]
  },
  {
   "cell_type": "code",
   "execution_count": null,
   "metadata": {},
   "outputs": [],
   "source": [
    "cursor.execute(badquery)\n",
    "cursor.fetchone()"
   ]
  },
  {
   "cell_type": "markdown",
   "metadata": {},
   "source": [
    "So why did I name that variable \"badquery\"? A couple reasons. First, if there is a mountain ' in its name, like \"Pica d'Estats\" the query would break."
   ]
  },
  {
   "cell_type": "code",
   "execution_count": null,
   "metadata": {},
   "outputs": [],
   "source": [
    "bad_mountain = \"Pica d'Estats\"\n",
    "query = \"SELECT elevation FROM mountain WHERE name = '\" + bad_mountain + \"'\"\n",
    "print(query)"
   ]
  },
  {
   "cell_type": "markdown",
   "metadata": {},
   "source": [
    "See the **unmatching single quotation marks** there?\n",
    "\n",
    "For this reason and others, the cursor object's `.execute()` method comes with a built-in means of interpolating values into queries. Use `%s` as wildcards in your query string wherever you want to insert a value, and then pass as a second parameter to `.execute()` via list of values that you want to be included in the query:"
   ]
  },
  {
   "cell_type": "code",
   "execution_count": null,
   "metadata": {},
   "outputs": [],
   "source": [
    "cursor.execute(\"SELECT elevation FROM mountain WHERE name = %s\",\n",
    "              [\"Pica d'Estats\"])\n",
    "cursor.fetchone()"
   ]
  },
  {
   "cell_type": "markdown",
   "metadata": {},
   "source": [
    "pg8000 deals with interpolating to strings properly, and protects you from [SQL injection attacks](https://en.wikipedia.org/wiki/SQL_injection).\n",
    "\n",
    "Here's an example looping through a list of mountains to get their elevation:"
   ]
  },
  {
   "cell_type": "code",
   "execution_count": null,
   "metadata": {},
   "outputs": [],
   "source": [
    "user_wants_mount = [\"Pica d'Estats\",\"Kilimanjaro\",\"Ararat\",\"Mont Blanc\"]\n",
    "for mt_name in user_wants_mount:\n",
    "    cursor.execute(\"SELECT elevation FROM mountain WHERE name = %s\",\n",
    "                   [mt_name])\n",
    "    height = cursor.fetchone() # fetchone() returns a tuple w/1 val\n",
    "    print(mt_name, height)"
   ]
  },
  {
   "cell_type": "markdown",
   "metadata": {},
   "source": [
    "##  errors in pg8000\n",
    "\n",
    "Simple errors can break your connection to the database."
   ]
  },
  {
   "cell_type": "code",
   "execution_count": null,
   "metadata": {},
   "outputs": [],
   "source": [
    "cursor = conn.cursor()\n",
    "cursor.execute(\"SELECTT elevation FROM mountain WHERE name = 'Ararat'\")"
   ]
  },
  {
   "cell_type": "markdown",
   "metadata": {},
   "source": [
    "... you'll get a syntax error. But also you will keep getting errors even when you fix the problem:"
   ]
  },
  {
   "cell_type": "code",
   "execution_count": null,
   "metadata": {},
   "outputs": [],
   "source": [
    "cursor = conn.cursor()\n",
    "cursor.execute(\"SELECT elevation FROM mountain WHERE name = 'Ararat'\")\n",
    "cursor.fetchone()"
   ]
  },
  {
   "cell_type": "markdown",
   "metadata": {},
   "source": [
    "The way to fix this problem is to close the connection and re-open it, by calling the connection object's `rollback` method:"
   ]
  },
  {
   "cell_type": "code",
   "execution_count": null,
   "metadata": {},
   "outputs": [],
   "source": [
    "conn.rollback()"
   ]
  },
  {
   "cell_type": "markdown",
   "metadata": {},
   "source": [
    "Now your queries can proceed as planned:"
   ]
  },
  {
   "cell_type": "code",
   "execution_count": null,
   "metadata": {},
   "outputs": [],
   "source": [
    "cursor.execute(\"SELECT elevation FROM mountain WHERE name = 'Ararat'\")\n",
    "cursor.fetchone()"
   ]
  },
  {
   "cell_type": "markdown",
   "metadata": {},
   "source": [
    "## More information\n",
    "\n",
    "For more information, go to [pg8000's documentation](https://github.com/tlocke/pg8000)."
   ]
  }
 ],
 "metadata": {
  "kernelspec": {
   "display_name": "Python 3 (ipykernel)",
   "language": "python",
   "name": "python3"
  },
  "language_info": {
   "codemirror_mode": {
    "name": "ipython",
    "version": 3
   },
   "file_extension": ".py",
   "mimetype": "text/x-python",
   "name": "python",
   "nbconvert_exporter": "python",
   "pygments_lexer": "ipython3",
   "version": "3.11.0rc2"
  }
 },
 "nbformat": 4,
 "nbformat_minor": 1
}
